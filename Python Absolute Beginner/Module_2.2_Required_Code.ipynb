{
 "cells": [
  {
   "attachments": {},
   "cell_type": "markdown",
   "metadata": {
    "collapsed": true
   },
   "source": [
    "#  Module 2 Required Coding Activity  \n",
    "\n",
    "| Requirements |  \n",
    "|:-------------------------------|  \n",
    "| **NOTE:** This program requires a **function** be defined, created and called. The call will send values based on user input.  The function call must capture a `return` value that is used in print output.  The function will have parameters and `return` a string and should otherwise use code syntax covered in module 2.  |  \n",
    " \n",
    "## Program: fishstore()\n",
    "create and test fishstore()\n",
    "- **fishstore() takes 2 string arguments: fish & price**\n",
    "- **fishstore returns a string in sentence form**  \n",
    "- **gather input for fish_entry and price_entry to use in calling fishstore()**\n",
    "- **print the return value of fishstore()**\n",
    "- **the final print statement must include your full name**\n",
    "\n",
    ">example of output: **`Report for [YOUR FULL NAME GOES HERE]. Fish Type: Guppy costs $1`**"
   ]
  },
  {
   "cell_type": "code",
   "execution_count": 11,
   "metadata": {},
   "outputs": [
    {
     "name": "stdout",
     "output_type": "stream",
     "text": [
      "Report for Keoni Perez. Fish type: salmon costs $12,99\n"
     ]
    }
   ],
   "source": [
    "# [ ] create, call and test fishstore() function \n",
    "def fishstore(fish, price):\n",
    "    fish=fish.capitalize()\n",
    "    price=price.capitalize()\n",
    "    return fish + ' ' + price\n",
    "\n",
    "fish_entry=input('Fish in stock: Salmon, Snapper, Tilapia. Choosing:')\n",
    "price_entry=input('Please provide the price for the type of fish chose:')\n",
    "fish3= fishstore(fish_entry, price_entry)\n",
    "\n",
    "print('Report for Keoni Perez. Fish type:',fish_entry,'costs $'+price_entry)\n"
   ]
  },
  {
   "cell_type": "code",
   "execution_count": 12,
   "metadata": {},
   "outputs": [
    {
     "name": "stdout",
     "output_type": "stream",
     "text": [
      "Report for Keoni Perez. Fish type: Snapper costs $18,99\n"
     ]
    }
   ],
   "source": [
    "def fishtype():\n",
    "    fish_entry= input('Fish in stock: Salmon, Snapper, Tilapia. Choosing:')\n",
    "    return fish_entry.capitalize()\n",
    "\n",
    "def fishpr():\n",
    "    price_entry=input('Please provide the price for the type of fish chose:')\n",
    "    return price_entry\n",
    "\n",
    "print('Report for Keoni Perez. Fish type:',fishtype(),'costs $'+fishpr())"
   ]
  },
  {
   "cell_type": "code",
   "execution_count": 3,
   "metadata": {},
   "outputs": [
    {
     "name": "stdout",
     "output_type": "stream",
     "text": [
      "Report for Naruto Uzumaki: Steak cut selected Ribeye costs $12,99\n"
     ]
    }
   ],
   "source": [
    "def beefcut():\n",
    "    beef_cut=beef_cut.capitalize()\n",
    "    beef_price=beef_price\n",
    "    return beef_cut, beef_price\n",
    "\n",
    "beefstock=input('Steak cuts in stock: Ribeye, Flank, Sirloin:'.title())\n",
    "stprice=input('Please provide your method of payment along with total')\n",
    "\n",
    "print('Report for Naruto Uzumaki: Steak cut selected', beefstock.capitalize(),'costs $'+stprice)"
   ]
  },
  {
   "cell_type": "markdown",
   "metadata": {},
   "source": [
    "When finished and tested, copy your code to the clipboard on your computer. Then, create a python file (.py) in Visual Studio Code by selecting New File and saving the file with a .py extension. Then, paste in your code and test it. Finally, save the file and upload it to D2L to submit. Be sure to test that it works. Use this same process for all Required Code Activities."
   ]
  }
 ],
 "metadata": {
  "kernelspec": {
   "display_name": "Python 3",
   "language": "python",
   "name": "python3"
  },
  "language_info": {
   "codemirror_mode": {
    "name": "ipython",
    "version": 3
   },
   "file_extension": ".py",
   "mimetype": "text/x-python",
   "name": "python",
   "nbconvert_exporter": "python",
   "pygments_lexer": "ipython3",
   "version": "3.12.5"
  }
 },
 "nbformat": 4,
 "nbformat_minor": 1
}
