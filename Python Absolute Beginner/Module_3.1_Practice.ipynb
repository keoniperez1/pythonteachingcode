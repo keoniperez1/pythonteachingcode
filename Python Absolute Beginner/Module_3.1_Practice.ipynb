{
 "cells": [
  {
   "cell_type": "markdown",
   "metadata": {},
   "source": [
    "# Module 3 Practice 1\n",
    "## Conditionals \n",
    "<font size=\"5\" color=\"#00A0B2\"  face=\"verdana\"> <B>Student will be able to</B></font>  \n",
    "- **control code flow with `if`... `else` conditional logic**  \n",
    "  - using Boolean string methods (`.isupper(), .isalpha(), .startswith()...`)  \n",
    "  - using comparision (`>, <, >=, <=, ==, !=`)  \n",
    "  - using Strings in comparisons  \n",
    "\n",
    "## `if else`\n"
   ]
  },
  {
   "cell_type": "code",
   "execution_count": 1,
   "metadata": {},
   "outputs": [
    {
     "name": "stdout",
     "output_type": "stream",
     "text": [
      "Age's first type is:  <class 'int'>\n",
      "Age's second type is:  <class 'int'>\n",
      "In ten years you will be 30.\n"
     ]
    }
   ],
   "source": [
    "# [ ] input a variable: age as digit and cast to int\n",
    "# if age greater than or equal to 12 then print message on age in 10 years \n",
    "# or else print message \"It is good to be\" age\n",
    "age = int(input(\"Input your age (use only whole numbers): \"))\n",
    "print(\"Age's first type is: \",type(age))\n",
    "age = int(age)\n",
    "print(\"Age's second type is: \",type(age))\n",
    "\n",
    "if age >= 12:\n",
    "    print(\"In ten years you will be \"+str(age+10)+\".\")\n",
    "else:\n",
    "    print(\"It is good to be \"+str(age)+\".\")\n",
    "\n",
    "\n",
    "\n"
   ]
  },
  {
   "cell_type": "code",
   "execution_count": 14,
   "metadata": {
    "collapsed": true
   },
   "outputs": [
    {
     "name": "stdout",
     "output_type": "stream",
     "text": [
      "Your number is greater than 100 is False\n"
     ]
    }
   ],
   "source": [
    "# [ ] input a number \n",
    "number1= input('Input a number')\n",
    "\n",
    "if number1.isalpha():\n",
    "    print('Provide a valid integer')\n",
    "elif int(number1)<= 100:\n",
    "    print('Your number is greater than 100 is', False)\n",
    "elif int(number1) >= 100:\n",
    "    print('Greater than 100 is', True)\n",
    "\n",
    "\n",
    "# if number IS a digit string then cast to int\n",
    "# print number \"greater than 100 is\" True/False\n",
    "# if number is NOT a digit string then message the user that \"only int is accepted\"\n",
    "\n",
    "\n"
   ]
  },
  {
   "cell_type": "markdown",
   "metadata": {},
   "source": [
    "### Guessing a letter A-Z  \n",
    "**check_guess()** takes 2 string arguments: **letter and guess** (both expect single alphabetical character)   \n",
    "    - if guess is not an alpha character print invalid and return False\n",
    "    - test and print if guess is \"high\" or \"low\" and return False\n",
    "    - test and print if guess is \"correct\" and return True"
   ]
  },
  {
   "cell_type": "code",
   "execution_count": 15,
   "metadata": {
    "collapsed": true
   },
   "outputs": [
    {
     "name": "stdout",
     "output_type": "stream",
     "text": [
      "G is not equal to K\n"
     ]
    }
   ],
   "source": [
    "# [ ] create check_guess()\n",
    "def check_guess():\n",
    "    letter= ('G')\n",
    "    guess= ('K')\n",
    "    if guess.isdigit():\n",
    "        print('Invalid input, only alphabetic characters.')\n",
    "    elif guess == letter:\n",
    "        print(letter,'is equal to',guess)\n",
    "    else:\n",
    "        print(letter, 'is not equal to', guess)\n",
    "\n",
    "check_guess()\n",
    "# call with test\n",
    "\n",
    "\n"
   ]
  },
  {
   "cell_type": "code",
   "execution_count": 21,
   "metadata": {
    "collapsed": true
   },
   "outputs": [
    {
     "name": "stdout",
     "output_type": "stream",
     "text": [
      "G is equal to g True\n"
     ]
    }
   ],
   "source": [
    "# [ ] call check_guess with user input\n",
    "def check_guess():\n",
    "    letter= ('G')\n",
    "    guess= input('Provide a single alphabetic character')\n",
    "    if guess.isdigit():\n",
    "        print('Invalid input, only alphabetic characters.')\n",
    "    elif guess.upper() == letter:\n",
    "        print(letter,'is equal to',guess, True)\n",
    "    else:\n",
    "        print(letter, 'is not equal to', guess)\n",
    "check_guess()\n"
   ]
  },
  {
   "cell_type": "markdown",
   "metadata": {},
   "source": [
    "### Letter Guess\n",
    "**create letter_guess() function that gives user 3 guesses**\n",
    "- takes a letter character argument for the answer letter\n",
    "- gets user input for letter guess  \n",
    "- calls check_guess() with answer and guess\n",
    "- End letter_guess if \n",
    "    - check_guess() equals True, return True  \n",
    "    - or after 3 failed attempts, return False"
   ]
  },
  {
   "cell_type": "code",
   "execution_count": 146,
   "metadata": {
    "collapsed": true
   },
   "outputs": [],
   "source": [
    "# [ ] create letter_guess() function, call the function to test\n",
    "   \n",
    "def letter_guess():\n",
    "    letter= 'g'    \n",
    "    guess=input('Guess a letter')\n",
    "    if guess!= letter:\n",
    "        input('Try again!')\n",
    "    elif guess != letter:\n",
    "         input('Try again!')\n",
    "    elif guess != letter:\n",
    "                print ('Your result is', False)\n",
    "    if guess.lower()== letter:\n",
    "            print ('Your result is' ,True)\n",
    "\n",
    "letter_guess()"
   ]
  },
  {
   "cell_type": "markdown",
   "metadata": {},
   "source": [
    "### Pet Conversation\n",
    "**ask the user for a sentence about a pet and then reply**  \n",
    "- get user input in variable: about_pet\n",
    "- using a series of **if** statements respond with appropriate conversation\n",
    "  - check if \"dog\" is in the string about_pet (sample reply \"Ah, a dog\")\n",
    "  - check if \"cat\" is in the string about_pet\n",
    "  - check if 1 or more animal is in string about_pet\n",
    "- no need for **else**'s\n",
    "- finish with thanking for the story"
   ]
  },
  {
   "cell_type": "code",
   "execution_count": 114,
   "metadata": {
    "collapsed": true
   },
   "outputs": [
    {
     "name": "stdout",
     "output_type": "stream",
     "text": [
      "cat\n",
      "You are a crazy cat\n",
      "Thanks for the story.\n"
     ]
    }
   ],
   "source": [
    "about_pet= input('Provide a sentence about a pet')\n",
    "if 'dog'.lower() == about_pet:\n",
    "    print ('I have a' ,about_pet)\n",
    "    print('Oh you have a messy', about_pet)\n",
    "if 'cat'.lower()== about_pet:\n",
    "    print(about_pet)\n",
    "    print('You are a crazy', about_pet)\n",
    "\n",
    "if 'bird' + 'fish' == about_pet:\n",
    "    print('you have many pets!')\n",
    "else:\n",
    "    print('Thanks for the story.')\n"
   ]
  },
  {
   "cell_type": "markdown",
   "metadata": {},
   "source": [
    "# Module 3 Practice 2\n",
    "## conditionals, type, and mathematics extended   \n",
    "&nbsp;\n",
    "<font size=\"5\" color=\"#00A0B2\"  face=\"verdana\"> <B>Student will be able to</B></font>  \n",
    "- code more than two choices using **`elif`** \n",
    "- gather numeric input using type casting  \n",
    "- perform subtraction, multiplication and division operations in code  &nbsp;  \n"
   ]
  },
  {
   "cell_type": "markdown",
   "metadata": {},
   "source": [
    "# &nbsp;  \n",
    "<font size=\"6\" color=\"#B24C00\"  face=\"verdana\"> <B>Tasks</B></font>"
   ]
  },
  {
   "cell_type": "markdown",
   "metadata": {},
   "source": [
    "### Rainbow colors\n",
    "ask for input of a favorite rainbow color first letter: ROYGBIV  \n",
    "\n",
    "Using `if`, `elif`, and `else`:  \n",
    "- print the color matching the letter  \n",
    "    - R = Red  \n",
    "    - O = Orange  \n",
    "    - Y = Yellow  \n",
    "    - G = Green\n",
    "    - B = Blue\n",
    "    - I = Indigo\n",
    "    - V = Violet\n",
    "    - else print \"no match\"\n"
   ]
  },
  {
   "cell_type": "code",
   "execution_count": 147,
   "metadata": {},
   "outputs": [
    {
     "name": "stdout",
     "output_type": "stream",
     "text": [
      "No match.\n"
     ]
    }
   ],
   "source": [
    "# [ ] complete rainbow colors\n",
    "fav_color=input('Say the first letter of your favorite color:')\n",
    "if 'r' == fav_color.lower():\n",
    "    print('Red')\n",
    "elif 'o' == fav_color.lower():\n",
    "    print('Orange')\n",
    "elif 'y' == fav_color.lower():\n",
    "    print('Yellow')\n",
    "elif 'g' == fav_color.lower():\n",
    "    print('Green') \n",
    "elif 'b' == fav_color.lower():\n",
    "    print('Blue')     \n",
    "elif 'i' == fav_color.lower():\n",
    "    print('Indigo') \n",
    "elif 'V' == fav_color.lower():\n",
    "    print('Violet')\n",
    "else:\n",
    "    print('No match.')"
   ]
  },
  {
   "cell_type": "code",
   "execution_count": 148,
   "metadata": {},
   "outputs": [
    {
     "name": "stdout",
     "output_type": "stream",
     "text": [
      "Indigo\n"
     ]
    }
   ],
   "source": [
    "# [ ] make the code above into a function rainbow_color() that has a string parameter, \n",
    "# get input and call the function and return the matching color as a string or \"no match\" message.\n",
    "# Call the function and print the return string.\n",
    "def rainbow_color():\n",
    "    fav_color=input('Say the first letter of your favorite color:')\n",
    "    if 'r' == fav_color.lower():\n",
    "        print('Red')\n",
    "    elif 'o' == fav_color.lower():\n",
    "        print('Orange')\n",
    "    elif 'y' == fav_color.lower():\n",
    "        print('Yellow')\n",
    "    elif 'g' == fav_color.lower():\n",
    "        print('Green') \n",
    "    elif 'b' == fav_color.lower():\n",
    "        print('Blue')     \n",
    "    elif 'i' == fav_color.lower():\n",
    "        print('Indigo') \n",
    "    elif 'v' == fav_color.lower():\n",
    "        print('Violet')\n",
    "    else:\n",
    "        print('No match.')\n",
    "\n",
    "rainbow_color()\n",
    "\n"
   ]
  },
  {
   "cell_type": "markdown",
   "metadata": {},
   "source": [
    "# &nbsp;  \n",
    "**Create function age_20() that adds or subtracts 20 from your age for a return value based on current age** (use `if`) \n",
    "- call the funtion with user input and then use the return value in a sentence  \n",
    "example `age_20(25)` returns **5**: \n",
    "> \"5 years old, 20 years difference from now\""
   ]
  },
  {
   "cell_type": "code",
   "execution_count": 149,
   "metadata": {},
   "outputs": [
    {
     "name": "stdout",
     "output_type": "stream",
     "text": [
      "now you have -8\n"
     ]
    }
   ],
   "source": [
    "# [ ] complete age_20()\n",
    "def age_20():\n",
    "    age=input('Say your age')\n",
    "    if age.isalpha():\n",
    "        print ('provide a valid number')\n",
    "    return int(age) - 20\n",
    "print('now you have', age_20())\n",
    "\n",
    "\n"
   ]
  },
  {
   "cell_type": "markdown",
   "metadata": {},
   "source": [
    "**create a function rainbow_or_age that takes a string argument**\n",
    "- if argument is a digit return the value of calling age_20() with the str value cast as **`int`** \n",
    "- if argument is an alphabetical character return the value of calling rainbow_color() with the str\n",
    "- if neither return FALSE"
   ]
  },
  {
   "cell_type": "code",
   "execution_count": null,
   "metadata": {},
   "outputs": [],
   "source": [
    "# [ ]  create \n",
    "def rainbow_or_age():\n",
    "    \n",
    "\n"
   ]
  },
  {
   "cell_type": "code",
   "execution_count": 135,
   "metadata": {},
   "outputs": [
    {
     "name": "stdout",
     "output_type": "stream",
     "text": [
      "10\n"
     ]
    }
   ],
   "source": [
    "# [ ]  add 2 numbers from input using a cast to integer and display the answer \n",
    "nm3=input(\"say a number:\")\n",
    "nm4=input('Other number:')\n",
    "print(int(nm3) + int(nm4))\n"
   ]
  },
  {
   "cell_type": "code",
   "execution_count": 150,
   "metadata": {},
   "outputs": [
    {
     "name": "stdout",
     "output_type": "stream",
     "text": [
      "The answer is 144\n"
     ]
    }
   ],
   "source": [
    "# [ ] Multiply 2 numbers from input using cast and save the answer as part of a string \"the answer is...\"\n",
    "# display the string using print\n",
    "nm3=input(\"say a number:\")\n",
    "nm4=input('Other number:')\n",
    "print('The answer is', int(nm3) * int(nm4))\n",
    "\n"
   ]
  },
  {
   "cell_type": "code",
   "execution_count": 151,
   "metadata": {},
   "outputs": [
    {
     "data": {
      "text/plain": [
       "6.5"
      ]
     },
     "execution_count": 151,
     "metadata": {},
     "output_type": "execute_result"
    }
   ],
   "source": [
    "# [ ] get input of 2 numbers and display the average: (num1 + num2) divided by 2\n",
    "\n",
    "nm3=input(\"say a number:\")\n",
    "nm4=input('Other number:')\n",
    "ttsum= int(nm3) + int(nm4) \n",
    "ttsum / 2"
   ]
  },
  {
   "cell_type": "code",
   "execution_count": 143,
   "metadata": {},
   "outputs": [
    {
     "name": "stdout",
     "output_type": "stream",
     "text": [
      "Your first number is bigger than the second one\n"
     ]
    }
   ],
   "source": [
    "# [ ] get input of 2 numbers and subtract the largest from the smallest (use an if statement to see which is larger)\n",
    "# show the answer\n",
    "nm3=input(\"say a number:\")\n",
    "nm4=input('say a smaller number:')\n",
    "ttsum= int(nm3) - int(nm4)\n",
    "if nm4> nm3:\n",
    "    print('The substraction is a bigger number.')\n",
    "elif nm3> nm4:\n",
    "    print('Your first number is bigger than the second one')\n",
    "elif ttsum> nm3:\n",
    "    print('The substraction is bigger.')\n",
    "\n",
    "\n"
   ]
  },
  {
   "cell_type": "code",
   "execution_count": 145,
   "metadata": {},
   "outputs": [
    {
     "name": "stdout",
     "output_type": "stream",
     "text": [
      "5\n"
     ]
    }
   ],
   "source": [
    "# [ ] Divide a larger number by a smaller number and print the integer part of the result\n",
    "# don't divide by zero! if a zero is input make the result zero\n",
    "# [ ] cast the answer to an integer to cut off the decimals and print the result\n",
    "nm3=input(\"say a number:\")\n",
    "nm4=input('say a smaller number:')\n",
    "ttsum= int(nm3) / int(nm4)\n",
    "print(int(ttsum))\n"
   ]
  },
  {
   "cell_type": "markdown",
   "metadata": {
    "collapsed": true
   },
   "source": [
    "[Terms of use](http://go.microsoft.com/fwlink/?LinkID=206977) &nbsp; [Privacy & cookies](https://go.microsoft.com/fwlink/?LinkId=521839) &nbsp; © 2017 Microsoft"
   ]
  }
 ],
 "metadata": {
  "anaconda-cloud": {},
  "kernelspec": {
   "display_name": "Python 3",
   "language": "python",
   "name": "python3"
  },
  "language_info": {
   "codemirror_mode": {
    "name": "ipython",
    "version": 3
   },
   "file_extension": ".py",
   "mimetype": "text/x-python",
   "name": "python",
   "nbconvert_exporter": "python",
   "pygments_lexer": "ipython3",
   "version": "3.12.5"
  }
 },
 "nbformat": 4,
 "nbformat_minor": 1
}
