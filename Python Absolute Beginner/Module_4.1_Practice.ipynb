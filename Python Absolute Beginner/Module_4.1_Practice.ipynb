{
 "cells": [
  {
   "cell_type": "markdown",
   "metadata": {},
   "source": [
    "# Module 4 Practice\n",
    "## Nested Conditionals\n",
    "<font size=\"5\" color=\"#00A0B2\"  face=\"verdana\"> <B>Student will be able to</B></font>\n",
    "- create nested conditional logic in code  \n",
    "- print format print using escape sequence (**\\**)"
   ]
  },
  {
   "cell_type": "markdown",
   "metadata": {},
   "source": [
    "# &nbsp;\n",
    "<font size=\"6\" color=\"#B24C00\"  face=\"verdana\"> <B>Tasks</B></font>  "
   ]
  },
  {
   "cell_type": "code",
   "execution_count": 2,
   "metadata": {},
   "outputs": [
    {
     "name": "stdout",
     "output_type": "stream",
     "text": [
      "The new line character is \"\\n\"\n"
     ]
    }
   ],
   "source": [
    "# [ ] print a string that outputs the following exactly: The new line character is \"\\n\"\n",
    "\n",
    "print('The new line character is \"\\\\n\"')\n"
   ]
  },
  {
   "cell_type": "code",
   "execution_count": 3,
   "metadata": {},
   "outputs": [
    {
     "name": "stdout",
     "output_type": "stream",
     "text": [
      "\"That's how we escape!\"\n"
     ]
    }
   ],
   "source": [
    "# [ ] print output that is exactly (with quotes): \"That's how we escape!\"\n",
    "\n",
    "print(\"\\\"That's how we escape!\\\"\")"
   ]
  },
  {
   "cell_type": "code",
   "execution_count": 4,
   "metadata": {},
   "outputs": [
    {
     "name": "stdout",
     "output_type": "stream",
     "text": [
      "1\t one\t 22\t two\t 333\t three\t\n"
     ]
    }
   ],
   "source": [
    "# [ ] with only 1 print statement and using No Space Characters, output the text commented below  \n",
    "\n",
    "# 1       one\n",
    "# 22      two\n",
    "# 333     three\n",
    "\n",
    "print(\"1\\t one\\t 22\\t two\\t 333\\t three\\t\")"
   ]
  },
  {
   "cell_type": "markdown",
   "metadata": {},
   "source": [
    "# &nbsp;\n",
    "## Program: quote_me() Function\n",
    "quote_me takes a string argument and returns a string that will display surrounded with **added double quotes** if printed  \n",
    "- check if passed string starts with a double quote (`\"\\\"\"`), then surround string with single quotations \n",
    "- if the passed string starts with single quote, or if doesn't start with a quotation mark, then surround with double quotations  \n",
    "\n",
    "Test the function code passing string input as the argument to quote_me() "
   ]
  },
  {
   "cell_type": "code",
   "execution_count": 7,
   "metadata": {},
   "outputs": [
    {
     "name": "stdout",
     "output_type": "stream",
     "text": [
      "'\"I have two dogs\"'\n"
     ]
    }
   ],
   "source": [
    "# [ ] create and test quote_me()\n",
    "def quote_me():\n",
    "    quote= input(\"Say a quote.\")\n",
    "    if quote.startswith(\"\\\"\"):\n",
    "        quote= \"\\'\" +quote+ \"\\'\"\n",
    "        print(quote)\n",
    "    elif quote.startswith(\"\\'\"):\n",
    "        quote=\"\\\"\" +quote+ \"\\\"\"\n",
    "        print(quote)\n",
    "    else:\n",
    "        quote=\"\\\"\" + quote + \"\\\"\"\n",
    "        print(quote)\n",
    "\n",
    "quote_me()\n",
    "        \n",
    "\n",
    "\n"
   ]
  },
  {
   "cell_type": "markdown",
   "metadata": {},
   "source": [
    "# &nbsp;\n",
    "### Program: shirt order \n",
    "First get input for color and size  \n",
    "- White has sizes L, M \n",
    "- Blue has sizes M, S  \n",
    "\n",
    "print available or unavailable, then  \n",
    "print the order confirmation of color and size  \n",
    "\n",
    "*\n",
    "**hint**: set a variable \"available = False\" before nested if statements and  \n",
    "change to True if color and size are avaliable*"
   ]
  },
  {
   "cell_type": "code",
   "execution_count": 8,
   "metadata": {},
   "outputs": [
    {
     "name": "stdout",
     "output_type": "stream",
     "text": [
      "For that color we have: Medium or Small\n",
      "Your order of blue shirt size medium is set!\n"
     ]
    }
   ],
   "source": [
    "# [ ] create shirt order using nested if \n",
    "def shirtorder():\n",
    "    shirtcolor= input('What color would you like?: Blue or White').lower()\n",
    "    if shirtcolor.startswith('b'):\n",
    "        print('For that color we have: Medium or Small')\n",
    "        shirtsize= input(\"Which size would you like?:\")\n",
    "        if shirtsize.startswith(\"m\"):\n",
    "            print(\"Your order of\", shirtcolor, \"shirt size\", shirtsize, \"is set!\")\n",
    "        elif shirtsize.startswith(\"s\"):\n",
    "            print(\"Your order of\", shirtcolor, \"shirt size\", shirtsize, \"is set!\")\n",
    "        else:\n",
    "            print(\"Please provide a valid option.\")\n",
    "    elif shirtcolor.startswith('w'):\n",
    "        print(\"For that color we have: Large and Medium\") \n",
    "        shirtsize = input (\"What color would you like?\")  \n",
    "        if shirtsize.startswith(\"m\"):\n",
    "            print(\"Your order of\", shirtcolor, \"shirt size\", shirtsize, \"is set!\")\n",
    "        elif shirtsize.startswith('l'):\n",
    "            print(\"Your order of\", shirtcolor, \"shirt size\", shirtsize, \"is set!\")\n",
    "        else:\n",
    "            print(\"Please provide a valid option.\")\n",
    "\n",
    "shirtorder()\n",
    "\n",
    "\n"
   ]
  },
  {
   "cell_type": "markdown",
   "metadata": {},
   "source": [
    "# &nbsp;\n",
    "## Program: str_analysis() Function\n",
    "Create the str_analysis() function that takes a string argument.  In the body of the function:\n",
    "- Check `if` string is digits  \n",
    "  - if digits: convert to `int` and check `if` greater than 99  \n",
    "    - if greater than 99, print a message about a \"big number\"  \n",
    "    - if not greater than 99, print message about \"small number\"    \n",
    "  - if not digits: check if string isalpha\n",
    "    - if isalpha print message about being all alpha\n",
    "    - if not isalpha print a message about being neither all alpha nor all digit  \n",
    "    \n",
    "call the function with a string from user input "
   ]
  },
  {
   "cell_type": "code",
   "execution_count": 11,
   "metadata": {},
   "outputs": [
    {
     "name": "stdout",
     "output_type": "stream",
     "text": [
      "That's not a word nor number!\n"
     ]
    }
   ],
   "source": [
    "# [ ] create and test str_analysis()\n",
    "def str_analysis():\n",
    "    word= input(\"Enter a number or word:\")\n",
    "    if word.isdigit():\n",
    "        if int(word)> 99:\n",
    "            print(\"That's a big number\")\n",
    "        else:\n",
    "            print(\"That's a small number!\")\n",
    "    elif word.isalpha():\n",
    "        print(\"That's all letters!\")\n",
    "    else:\n",
    "        print('That\\'s not a word nor number!')\n",
    "\n",
    "\n",
    "str_analysis()\n",
    "            "
   ]
  },
  {
   "cell_type": "markdown",
   "metadata": {
    "collapsed": true
   },
   "source": [
    "# &nbsp;  \n",
    "### Program: ticket_check() - finds out if a seat is available  \n",
    "Call ticket_check() function with 2 arguments: *section* and *seats* requested and return True or False  \n",
    "- **section** is a string and expects: general, floor\n",
    "- **seats** is an integer and expects: 1 - 10  \n",
    "\n",
    "Check for valid section and seats\n",
    "- if section is *general* (or use startswith \"g\")  \n",
    "  - if seats is 1-10 return True \n",
    "- if section is *floor* (or use starts with \"f\")\n",
    "  - if seats is 1-4 return True  \n",
    "\n",
    "otherwise return False"
   ]
  },
  {
   "cell_type": "code",
   "execution_count": 12,
   "metadata": {},
   "outputs": [
    {
     "name": "stdout",
     "output_type": "stream",
     "text": [
      "Approved: True\n"
     ]
    }
   ],
   "source": [
    "# [ ] create and call ticket_check()\n",
    "#Call ticket_check() function with 2 arguments: section and seats requested and return True or False\n",
    "\n",
    "def ticket_check(section, seats):\n",
    "    approved = False\n",
    "    if section.lower().startswith('g'):\n",
    "        if int(seats)> 0:\n",
    "            if int(seats) <11:\n",
    "                approved = True\n",
    "                print(\"Approved\", approved)\n",
    "            else:\n",
    "                print(\"you must order between 1-10 tickets\")\n",
    "        else:\n",
    "            print(\"you must order between 1-10 tickets\")\n",
    "    elif section.lower().startswith('f'):\n",
    "        if int(seats) > 0 :\n",
    "            if int(seats)< 5:\n",
    "                approved = True\n",
    "                print(\"Approved:\", approved )\n",
    "            else: \n",
    "                print(\"You need order between 1-4 tickets\")\n",
    "        else:\n",
    "            print(\"You need order between 1-4 tickets\")\n",
    "    else:\n",
    "        print(\"Approved\", approved)\n",
    "\n",
    "ticket_check(input(\"Would you like to sit in the floor or general section?:\"),input(\"How many seats would you like?:\"))"
   ]
  },
  {
   "cell_type": "markdown",
   "metadata": {},
   "source": [
    "# Module 4 Practice 2\n",
    "## `while()` loops & increments\n",
    "<font size=\"5\" color=\"#00A0B2\"  face=\"verdana\"> <B>Student will be able to</B></font>\n",
    "- create forever loops using `while` and `break`\n",
    "- use incrementing variables in a while loop\n",
    "- control while loops using Boolean operators"
   ]
  },
  {
   "cell_type": "code",
   "execution_count": 1,
   "metadata": {},
   "outputs": [
    {
     "name": "stdout",
     "output_type": "stream",
     "text": [
      "5\n",
      "9\n",
      "12\n",
      "14\n",
      "21\n",
      "28\n",
      "30\n",
      "32\n",
      "34\n",
      "36\n",
      "38\n",
      "Goodbye\n"
     ]
    }
   ],
   "source": [
    "# [ ] use a \"forever\" while loop to get user input of integers to add to sum, \n",
    "# until a non-digit is entered, then break the loop and print sum\n",
    "sum = 0\n",
    "numinput = \" \"\n",
    "while True:\n",
    "    numinput= input(\"Input a number or exit!:\")\n",
    "    if numinput.startswith(\"e\"):\n",
    "        print('Goodbye')\n",
    "        break\n",
    "    elif numinput.isdigit():\n",
    "        numinput=int(numinput)\n",
    "        sum += numinput\n",
    "        print(sum)\n",
    "           \n",
    "\n"
   ]
  },
  {
   "cell_type": "code",
   "execution_count": 5,
   "metadata": {},
   "outputs": [
    {
     "name": "stdout",
     "output_type": "stream",
     "text": [
      "Please try again!:\n",
      " Sorry try in another time!\n",
      "Congrats, you guessed it right!\n"
     ]
    }
   ],
   "source": [
    "# [ ] use a while True loop (forever loop) to give 4 chances for input of a correct color in a rainbow\n",
    "# rainbow = \"red orange yellow green blue indigo violet\"\n",
    "count= 0\n",
    "color= \"red orange yellow green blue indigo violet\"\n",
    "while True:\n",
    "    inpuser= input(\"Guess a color\")\n",
    "    if inpuser in color:\n",
    "        print(\"Congrats, you guessed it right!\")\n",
    "        break\n",
    "    elif inpuser:\n",
    "        print(\"Please try again!:\")\n",
    "        count += 1\n",
    "        if count == 4:\n",
    "            break\n",
    "    \n",
    "   \n",
    "       \n",
    "\n",
    "\n"
   ]
  },
  {
   "cell_type": "code",
   "execution_count": 1,
   "metadata": {},
   "outputs": [
    {
     "name": "stdout",
     "output_type": "stream",
     "text": [
      "Rich Dad\n"
     ]
    }
   ],
   "source": [
    "# [ ] Get input for a book title, keep looping while input is Not in title format (title is every word capitalized)\n",
    "title = \"\"\n",
    "while True:\n",
    "    title= input(\"Enter a book title:\")\n",
    "    if title.istitle():\n",
    "        break\n",
    "    else:\n",
    "        input('Enter a book title:')\n",
    "print(title)\n"
   ]
  },
  {
   "cell_type": "code",
   "execution_count": 4,
   "metadata": {},
   "outputs": [
    {
     "name": "stdout",
     "output_type": "stream",
     "text": [
      "incorrect!\n",
      "incorrect!\n",
      "Nice Job\n"
     ]
    }
   ],
   "source": [
    "# [ ] create a math quiz question and ask for the solution until the input is correct\n",
    "\n",
    "answer= '5'\n",
    "userIp= input(\"What is 5 x 1?:\")\n",
    "\n",
    "while answer != userIp:\n",
    "    print(\"incorrect!\")\n",
    "    userIp= input(\"Try again!:\")\n",
    "    if userIp == answer:\n",
    "        print('Nice Job')\n",
    "        break\n"
   ]
  },
  {
   "cell_type": "markdown",
   "metadata": {},
   "source": [
    "### Fix the Error"
   ]
  },
  {
   "cell_type": "code",
   "execution_count": 7,
   "metadata": {},
   "outputs": [
    {
     "name": "stdout",
     "output_type": "stream",
     "text": [
      "sorry, not a winner.\n",
      "sorry, not a winner.\n",
      "sorry, not a winner.\n",
      "sorry, not a winner.\n",
      "you win!\n",
      "you win!\n",
      "Game ended\n"
     ]
    }
   ],
   "source": [
    "# [ ] review the code, run, fix the error\n",
    "tickets = int(input(\"enter tickets remaining (0 to quit): \"))\n",
    "\n",
    "while tickets > 0:\n",
    "        # if tickets are multiple of 3 then \"winner\"\n",
    "    if int(tickets/3) == tickets/3:\n",
    "        print(\"you win!\")\n",
    "    else:\n",
    "        print(\"sorry, not a winner.\")\n",
    "    tickets = int(input(\"enter tickets remaining (0 to quit): \"))\n",
    "\n",
    "print(\"Game ended\")\n",
    "    \n"
   ]
  },
  {
   "cell_type": "markdown",
   "metadata": {},
   "source": [
    "### create a function: quiz_item()  that asks a question and tests if input is correct  \n",
    "- quiz_item()has 2 parameter **strings**: question and solution  \n",
    "- shows question, gets answer input  \n",
    "- returns True if `answer == solution` or continues to ask question until correct answer is provided  \n",
    "- use a while loop\n",
    "\n",
    "create 2 or more quiz questions that call quiz_item()  \n",
    "**Hint**: provide multiple choice or T/F answers"
   ]
  },
  {
   "cell_type": "code",
   "execution_count": 9,
   "metadata": {},
   "outputs": [
    {
     "name": "stdout",
     "output_type": "stream",
     "text": [
      "Correct!\n",
      "Incorrect!\n",
      "Correct!\n"
     ]
    }
   ],
   "source": [
    "# Create quiz_item() and 2 or more quiz questions that call quiz_item()\n",
    "\n",
    "#quiz_item()has 2 parameter strings: question and solution\n",
    "def quiz_item(question, solution):\n",
    "    userans= input(question)\n",
    "\n",
    "    while True:\n",
    "        if userans.upper()!= solution:\n",
    "            print(\"Incorrect!\")\n",
    "            userans= input(question)\n",
    "        else:\n",
    "            print(\"Correct!\")\n",
    "            break\n",
    "\n",
    "q1= \"T/F: Is the sky blue?\"\n",
    "q1answer= \"T\"\n",
    "quiz_item(q1, q1answer)\n",
    "\n",
    "q2= \"T/F: Do I like pizza?\"\n",
    "q2answer= \"T\"\n",
    "quiz_item(q2, q2answer)\n"
   ]
  },
  {
   "cell_type": "markdown",
   "metadata": {
    "collapsed": true
   },
   "source": [
    "[Terms of use](http://go.microsoft.com/fwlink/?LinkID=206977) &nbsp; [Privacy & cookies](https://go.microsoft.com/fwlink/?LinkId=521839) &nbsp; © 2017 Microsoft"
   ]
  }
 ],
 "metadata": {
  "anaconda-cloud": {},
  "kernelspec": {
   "display_name": "Python 3",
   "language": "python",
   "name": "python3"
  },
  "language_info": {
   "codemirror_mode": {
    "name": "ipython",
    "version": 3
   },
   "file_extension": ".py",
   "mimetype": "text/x-python",
   "name": "python",
   "nbconvert_exporter": "python",
   "pygments_lexer": "ipython3",
   "version": "3.12.5"
  }
 },
 "nbformat": 4,
 "nbformat_minor": 1
}
