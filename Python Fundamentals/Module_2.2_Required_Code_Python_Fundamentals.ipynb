{
 "cells": [
  {
   "attachments": {},
   "cell_type": "markdown",
   "metadata": {},
   "source": [
    "#  Module 2 Required Coding Activity  \n",
    "Introduction to Python (Unit 2) Fundamentals \n",
    " \n",
    "Be sure to complete all tutorials and practice prior to attempting this activity.  \n",
    "\n",
    "| Important Assignment Requirements |  \n",
    "|:-------------------------------|  \n",
    "| **NOTE:** This program requires creating a function using **`def`** and **`return`**, using **`print`** output, **`input`**, **`if`**, **`in`** keywords, **`.append()`**, **`.pop()`**, **`.remove()`** list methods.  Be sure to include your full name in the prompts. See the example input below for more detail. |   \n",
    "\n",
    "## Program: list-o-matic  \n",
    "This program takes string input and checks if that string is in a list of strings    \n",
    "- if string is in the list it removes the first instance from list  \n",
    "- if string is not in the list the input gets appended to the list  \n",
    "- if the string is empty then the last item is popped from the list \n",
    "- if the **list becomes empty** the program ends  \n",
    "- if the user enters \"quit\" then the program ends  \n",
    "\n",
    "program has 2 parts  \n",
    "- **program flow** which can be modified to ask for a specific type of item.  This is the programmers choice.  Add a list of fish, trees, books, movies, songs.... your choice.  \n",
    "- **list-o-matic** Function which takes arguments of a string and a list.  The function modifies the list and returns a message as seen below.  \n",
    "\n",
    "![Flowchart of List-o-Matic](images/list_o_matic.png)\n",
    "\n",
    "**[ ]** initialize a list with several strings at the beginning of the program flow and follow the flow chart and output examples\n",
    "\n",
    " *example input/output*  \n",
    " ```\n",
    "Welcome, [YOUR NAME GOES HERE]. Look at all the animals ['cat', 'goat', 'cat']\n",
    "enter the name of an animal: horse\n",
    "1 instance of horse appended to list\n",
    "\n",
    "Welcome, [YOUR NAME GOES HERE]. Look at all the animals ['cat', 'goat', 'cat', 'horse']\n",
    "enter the name of an animal: cat\n",
    "1 instance of cat removed from list\n",
    "\n",
    "Welcome, [YOUR NAME GOES HERE]. Look at all the animals ['goat', 'cat', 'horse']\n",
    "enter the name of an animal: cat\n",
    "1 instance of cat removed from list\n",
    "\n",
    "Welcome, [YOUR NAME GOES HERE]. Look at all the animals ['goat', 'horse']\n",
    "enter the name of an animal:          (<-- entered empty string)\n",
    "horse popped from list\n",
    "\n",
    "Welcome, [YOUR NAME GOES HERE]. Look at all the animals ['goat']\n",
    "enter the name of an animal:          (<-- entered empty string)\n",
    "goat popped from list\n",
    "\n",
    "Goodbye!\n",
    "```  \n",
    "\n",
    "*example 2*\n",
    "```\n",
    "Welcome, [YOUR NAME GOES HERE]. Look at all the animals ['cat', 'goat', 'cat']\n",
    "enter the name of an animal: Quit\n",
    "Goodbye!\n",
    "```  \n",
    "\n"
   ]
  },
  {
   "cell_type": "code",
   "execution_count": 3,
   "metadata": {
    "collapsed": true
   },
   "outputs": [
    {
     "name": "stdout",
     "output_type": "stream",
     "text": [
      "1 instance of horse appended to the list\n",
      "This is the list of animals:  ['dolphin', 'cat', 'dog', 'cow', 'horse']\n",
      "1 instance of jaguar appended to the list\n",
      "This is the list of animals:  ['dolphin', 'cat', 'dog', 'cow', 'horse', 'jaguar']\n",
      "1 instance of jaguar popped from the list\n",
      "This is the list of animals:  ['dolphin', 'cat', 'dog', 'cow', 'horse']\n",
      "1 instance of cat removed from the list\n",
      "This is the list of animals:  ['dolphin', 'dog', 'cow', 'horse']\n",
      "1 instance of horse popped from the list\n",
      "This is the list of animals:  ['dolphin', 'dog', 'cow']\n",
      "Goodbye!\n"
     ]
    }
   ],
   "source": [
    "# [] create list-o-matic as a function and call it\n",
    "# [] be sure to include your spelled-out name in the welcome prompt\n",
    "# [] you are welcome to use any list you like for list-o-matic, does not have to be animals \n",
    "animals_list = [\"dolphin\", \"cat\", \"dog\", \"cow\"]\n",
    "name=  input('Welcome, provide your name please')\n",
    " \n",
    "def list_o_matic(animal):\n",
    "    if animal == \"\":\n",
    "        animal = animals_list.pop()\n",
    "        print(\"1 instance of\", animal, \"popped from the list\")\n",
    "    elif animal in animals_list:\n",
    "        animals_list.remove(animal)\n",
    "        print(\"1 instance of\", animal, \"removed from the list\")\n",
    "    else:\n",
    "        animals_list.append(animal)\n",
    "        print(\"1 instance of\", animal, \"appended to the list\")\n",
    "     \n",
    " \n",
    "while animals_list:\n",
    "    animal_choice = input(\"Welcome, \" +name.title()+ \" Enter name of an animal, or 'quit' to quit: \")\n",
    "    if animal_choice.startswith(\"q\"):\n",
    "        print(\"Goodbye!\") \n",
    "        break\n",
    "    else:\n",
    "        list_o_matic(animal_choice)\n",
    "        print(\"This is the list of animals: \", animals_list)\n",
    "\n",
    "         \n"
   ]
  },
  {
   "cell_type": "markdown",
   "metadata": {},
   "source": [
    "Submit this by creating a python file (.py) and submitting it in D2L. Be sure to test that it works.\n"
   ]
  }
 ],
 "metadata": {
  "anaconda-cloud": {},
  "kernelspec": {
   "display_name": "Python 3",
   "language": "python",
   "name": "python3"
  },
  "language_info": {
   "codemirror_mode": {
    "name": "ipython",
    "version": 3
   },
   "file_extension": ".py",
   "mimetype": "text/x-python",
   "name": "python",
   "nbconvert_exporter": "python",
   "pygments_lexer": "ipython3",
   "version": "3.12.5"
  }
 },
 "nbformat": 4,
 "nbformat_minor": 1
}
